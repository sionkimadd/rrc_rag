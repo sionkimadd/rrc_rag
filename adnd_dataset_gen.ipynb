{
 "cells": [
  {
   "cell_type": "markdown",
   "id": "2f6a8a31",
   "metadata": {},
   "source": [
    "## PDF and Elements Setting"
   ]
  },
  {
   "cell_type": "code",
   "execution_count": 1,
   "id": "c543abd1",
   "metadata": {},
   "outputs": [],
   "source": [
    "from unstructured.partition.pdf import partition_pdf\n",
    "\n",
    "\n",
    "def extract_pdf_elements(filepath):\n",
    "    return partition_pdf(\n",
    "        filename=filepath,\n",
    "        strategy=\"fast\", \n",
    "        extract_images_in_pdf=False,\n",
    "        infer_table_structure=False,\n",
    "        chunking_strategy=\"by_title\",\n",
    "        max_characters=4000,\n",
    "        new_after_n_chars=3800,\n",
    "        combine_text_under_n_chars=2000,\n",
    "    )"
   ]
  },
  {
   "cell_type": "code",
   "execution_count": 2,
   "id": "95903318",
   "metadata": {},
   "outputs": [],
   "source": [
    "adnd_pdf_files = [\n",
    "    \"Application_Development_and_Delivery/Application_Development_and_Delivery_Admission_Requirements.pdf\",\n",
    "    \"Application_Development_and_Delivery/Application_Development_and_Delivery_Awards_and_Scholarships.pdf\",\n",
    "    \"Application_Development_and_Delivery/Application_Development_and_Delivery_CO_OP_Practicum_Information.pdf\",\n",
    "    \"Application_Development_and_Delivery/Application_Development_and_Delivery_Computer_Laptop_Requirements.pdf\",\n",
    "    \"Application_Development_and_Delivery/Application_Development_and_Delivery_Courses_and_Descriptions.pdf\",\n",
    "    \"Application_Development_and_Delivery/Application_Development_and_Delivery_Employment_Potential.pdf\",\n",
    "    \"Application_Development_and_Delivery/Application_Development_and_Delivery_English_Language_Assessments.pdf\",\n",
    "    \"Application_Development_and_Delivery/Application_Development_and_Delivery_Graduation_Requirements.pdf\",\n",
    "    \"Application_Development_and_Delivery/Application_Development_and_Delivery_Locations_Dates_and_Fees.pdf\",\n",
    "    \"Application_Development_and_Delivery/Application_Development_and_Delivery_Overview.pdf\",\n",
    "    \"Application_Development_and_Delivery/Application_Development_and_Delivery_Recognition_of_Prior_Learning.pdf\",\n",
    "    \"Application_Development_and_Delivery/Application_Development_and_Delivery_Who_Should_Enrol.pdf\",\n",
    "    \"Application_Development_and_Delivery/Application_Development_and_Delivery_Print_Friendly.pdf\",\n",
    "]"
   ]
  },
  {
   "cell_type": "code",
   "execution_count": 3,
   "id": "f22e474c",
   "metadata": {},
   "outputs": [
    {
     "name": "stdout",
     "output_type": "stream",
     "text": [
      "Saved: Application_Development_and_Delivery_Admission_Requirements_elements\n",
      "Saved: Application_Development_and_Delivery_Awards_and_Scholarships_elements\n",
      "Saved: Application_Development_and_Delivery_CO_OP_Practicum_Information_elements\n",
      "Saved: Application_Development_and_Delivery_Computer_Laptop_Requirements_elements\n",
      "Saved: Application_Development_and_Delivery_Courses_and_Descriptions_elements\n",
      "Saved: Application_Development_and_Delivery_Employment_Potential_elements\n",
      "Saved: Application_Development_and_Delivery_English_Language_Assessments_elements\n",
      "Saved: Application_Development_and_Delivery_Graduation_Requirements_elements\n",
      "Saved: Application_Development_and_Delivery_Locations_Dates_and_Fees_elements\n",
      "Saved: Application_Development_and_Delivery_Overview_elements\n",
      "Saved: Application_Development_and_Delivery_Recognition_of_Prior_Learning_elements\n",
      "Saved: Application_Development_and_Delivery_Who_Should_Enrol_elements\n",
      "Saved: Application_Development_and_Delivery_Print_Friendly_elements\n"
     ]
    }
   ],
   "source": [
    "import os\n",
    "\n",
    "for filepath in adnd_pdf_files:\n",
    "    if os.path.exists(filepath):\n",
    "        try:\n",
    "            elements = extract_pdf_elements(filepath)\n",
    "            var_name = os.path.basename(filepath).replace(\".pdf\", \"_elements\")\n",
    "            globals()[var_name] = elements\n",
    "            print(f\"Saved: {var_name}\")\n",
    "        except Exception as e:\n",
    "            print(f\"Error: {filepath}: {e}\")\n",
    "    else:\n",
    "        print(f\"Not Found: {filepath}\")"
   ]
  },
  {
   "cell_type": "code",
   "execution_count": 4,
   "id": "c268270c",
   "metadata": {},
   "outputs": [
    {
     "name": "stdout",
     "output_type": "stream",
     "text": [
      "Application_Development_and_Delivery_Admission_Requirements_elements: 3 elements\n",
      "Application_Development_and_Delivery_Awards_and_Scholarships_elements: 25 elements\n",
      "Application_Development_and_Delivery_CO_OP_Practicum_Information_elements: 2 elements\n",
      "Application_Development_and_Delivery_Computer_Laptop_Requirements_elements: 1 elements\n",
      "Application_Development_and_Delivery_Courses_and_Descriptions_elements: 9 elements\n",
      "Application_Development_and_Delivery_Employment_Potential_elements: 1 elements\n",
      "Application_Development_and_Delivery_English_Language_Assessments_elements: 2 elements\n",
      "Application_Development_and_Delivery_Graduation_Requirements_elements: 1 elements\n",
      "Application_Development_and_Delivery_Locations_Dates_and_Fees_elements: 1 elements\n",
      "Application_Development_and_Delivery_Overview_elements: 2 elements\n",
      "Application_Development_and_Delivery_Recognition_of_Prior_Learning_elements: 1 elements\n",
      "Application_Development_and_Delivery_Who_Should_Enrol_elements: 1 elements\n",
      "Application_Development_and_Delivery_Print_Friendly_elements: 14 elements\n"
     ]
    }
   ],
   "source": [
    "elements_vars = [var for var in globals() if var.startswith(\"Application_Development_and_Delivery_\") and var.endswith(\"_elements\")]\n",
    "\n",
    "for var_name in elements_vars:\n",
    "    elements = globals()[var_name]\n",
    "    print(f\"{var_name}: {len(elements)} elements\")"
   ]
  },
  {
   "cell_type": "code",
   "execution_count": 5,
   "id": "2c8e328d",
   "metadata": {},
   "outputs": [],
   "source": [
    "Admission_Requirements_var_name = \"Application_Development_and_Delivery_Admission_Requirements_elements\"\n",
    "Awards_and_Scholarships_var_name = \"Application_Development_and_Delivery_Awards_and_Scholarships_elements\"\n",
    "CO_OP_Practicum_Information_var_name = \"Application_Development_and_Delivery_CO_OP_Practicum_Information_elements\"\n",
    "Computer_Laptop_Requirements_var_name = \"Application_Development_and_Delivery_Computer_Laptop_Requirements_elements\"\n",
    "Courses_and_Descriptions_var_name = \"Application_Development_and_Delivery_Courses_and_Descriptions_elements\"\n",
    "Employment_Potential_var_name = \"Application_Development_and_Delivery_Employment_Potential_elements\"\n",
    "English_Language_Assessments_var_name = \"Application_Development_and_Delivery_English_Language_Assessments_elements\"\n",
    "Graduation_Requirements_var_name = \"Application_Development_and_Delivery_Graduation_Requirements_elements\"\n",
    "Locations_Dates_and_Fees_var_name = \"Application_Development_and_Delivery_Locations_Dates_and_Fees_elements\"\n",
    "Overview_var_name = \"Application_Development_and_Delivery_Overview_elements\"\n",
    "Recognition_of_Prior_Learning_var_name = \"Application_Development_and_Delivery_Recognition_of_Prior_Learning_elements\"\n",
    "Who_Should_Enrol_var_name = \"Application_Development_and_Delivery_Who_Should_Enrol_elements\"\n",
    "Print_Friendly_var_name = \"Application_Development_and_Delivery_Print_Friendly_elements\"\n",
    "\n",
    "Application_Development_and_Delivery_Admission_Requirements_elements = globals()[Admission_Requirements_var_name]\n",
    "Application_Development_and_Delivery_Awards_and_Scholarships_elements = globals()[Awards_and_Scholarships_var_name]\n",
    "Application_Development_and_Delivery_CO_OP_Practicum_Information_elements = globals()[CO_OP_Practicum_Information_var_name]\n",
    "Application_Development_and_Delivery_Computer_Laptop_Requirements_elements = globals()[Computer_Laptop_Requirements_var_name]\n",
    "Application_Development_and_Delivery_Courses_and_Descriptions_elements = globals()[Courses_and_Descriptions_var_name]\n",
    "Application_Development_and_Delivery_Employment_Potential_elements = globals()[Employment_Potential_var_name]\n",
    "Application_Development_and_Delivery_English_Language_Assessments_elements = globals()[English_Language_Assessments_var_name]\n",
    "Application_Development_and_Delivery_Graduation_Requirements_elements = globals()[Graduation_Requirements_var_name]\n",
    "Application_Development_and_Delivery_Locations_Dates_and_Fees_elements = globals()[Locations_Dates_and_Fees_var_name]\n",
    "Application_Development_and_Delivery_Overview_elements = globals()[Overview_var_name]\n",
    "Application_Development_and_Delivery_Recognition_of_Prior_Learning_elements = globals()[Recognition_of_Prior_Learning_var_name]\n",
    "Application_Development_and_Delivery_Who_Should_Enrol_elements = globals()[Who_Should_Enrol_var_name]\n",
    "Application_Development_and_Delivery_Print_Friendly_elements = globals()[Print_Friendly_var_name]"
   ]
  },
  {
   "cell_type": "code",
   "execution_count": 6,
   "id": "f6332964",
   "metadata": {},
   "outputs": [
    {
     "name": "stdout",
     "output_type": "stream",
     "text": [
      "3\n",
      "25\n",
      "2\n",
      "1\n",
      "9\n",
      "1\n",
      "2\n",
      "1\n",
      "1\n",
      "2\n",
      "1\n",
      "1\n",
      "14\n"
     ]
    }
   ],
   "source": [
    "print(len(Application_Development_and_Delivery_Admission_Requirements_elements))\n",
    "print(len(Application_Development_and_Delivery_Awards_and_Scholarships_elements))\n",
    "print(len(Application_Development_and_Delivery_CO_OP_Practicum_Information_elements))\n",
    "print(len(Application_Development_and_Delivery_Computer_Laptop_Requirements_elements))\n",
    "print(len(Application_Development_and_Delivery_Courses_and_Descriptions_elements))\n",
    "print(len(Application_Development_and_Delivery_Employment_Potential_elements))\n",
    "print(len(Application_Development_and_Delivery_English_Language_Assessments_elements))\n",
    "print(len(Application_Development_and_Delivery_Graduation_Requirements_elements))\n",
    "print(len(Application_Development_and_Delivery_Locations_Dates_and_Fees_elements))\n",
    "print(len(Application_Development_and_Delivery_Overview_elements))\n",
    "print(len(Application_Development_and_Delivery_Recognition_of_Prior_Learning_elements))\n",
    "print(len(Application_Development_and_Delivery_Who_Should_Enrol_elements))\n",
    "print(len(Application_Development_and_Delivery_Print_Friendly_elements))"
   ]
  },
  {
   "cell_type": "markdown",
   "id": "e4a6b1f8",
   "metadata": {},
   "source": [
    "## Generator"
   ]
  },
  {
   "cell_type": "code",
   "execution_count": 7,
   "id": "f17a3b3e",
   "metadata": {},
   "outputs": [],
   "source": [
    "from langchain_core.prompts import PromptTemplate\n",
    "\n",
    "prompt = PromptTemplate.from_template(\n",
    "    \"\"\"Context information is below. You are only aware of this context and nothing else.\n",
    "---------------------\n",
    "\n",
    "{context}\n",
    "\n",
    "---------------------\n",
    "Given this context, generate only questions based on the below query.\n",
    "You are an Teacher/Professor in {domain}. \n",
    "Your task is to provide exactly **{num_questions}** question(s) for an upcoming quiz/examination.\n",
    "Each question must contain the phrase `{program_name} program`.\n",
    "You are not to provide more or less than this number of questions. \n",
    "The question(s) should be diverse in nature across the document. \n",
    "The purpose of question(s) is to test the understanding of the students on the context information provided.\n",
    "You must also provide the answer to each question. The answer should be based on the context information provided only.s\n",
    "\n",
    "Restrict the question(s) to the context information provided only.\n",
    "QUESTION and ANSWER should be written in English. response in JSON format which contains the `question` and `answer`.\n",
    "DO NOT USE List in JSON format.\n",
    "ANSWER should be a complete sentence.\n",
    "\n",
    "#Format:\n",
    "```json\n",
    "{{\n",
    "    \"QUESTION\": \"Where is the campus located for Application Development and Delivery program?\",\n",
    "    \"ANSWER\": \"Application Development and Delivery program is held at the Exchange District Campus in Winnipeg, Manitoba.\"\n",
    "}},\n",
    "{{\n",
    "    \"QUESTION\": \"What is the focus of COMP-1334 Design Thinking and Innovation in the Application Development and Delivery program?\",\n",
    "    \"ANSWER\": \"In the Application Development and Delivery program, COMP-1334 teaches students how to use iterative design thinking to empathize with users, redefine problems, develop and test prototypes, and pitch innovative solutions.\"\n",
    "}},\n",
    "{{\n",
    "    \"QUESTION\": \"Who can apply under Mature Student admission requirements for Application Development and Delivery program?\",\n",
    "    \"ANSWER\": \"If you are 19 years of age or older and have been out of high school for a minimum of one year at time of application, and you do not meet the regular admission requirements, you may apply under the Mature Student admission requirements.\"\n",
    "}}\n",
    "```\n",
    "\"\"\"\n",
    ")"
   ]
  },
  {
   "cell_type": "code",
   "execution_count": 8,
   "id": "4eaa2bf5",
   "metadata": {},
   "outputs": [],
   "source": [
    "import json\n",
    "import re\n",
    "\n",
    "def custom_json_parser(response):\n",
    "    raw = str(response.content) if hasattr(response, 'content') else str(response)\n",
    "    \n",
    "    code_blocks = re.findall(r\"```json\\s*(.*?)\\s*```\", raw, re.DOTALL)\n",
    "    json_content = code_blocks[0].strip() if code_blocks else raw\n",
    "    \n",
    "    json_objects = []\n",
    "    brace_count = 0\n",
    "    start_pos = -1\n",
    "    \n",
    "    for i, char in enumerate(json_content):\n",
    "        if char == '{':\n",
    "            if brace_count == 0:\n",
    "                start_pos = i\n",
    "            brace_count += 1\n",
    "        elif char == '}':\n",
    "            brace_count -= 1\n",
    "            if brace_count == 0 and start_pos != -1:\n",
    "                obj_text = json_content[start_pos:i+1]\n",
    "                try:\n",
    "                    parsed_obj = json.loads(obj_text)\n",
    "                    if 'QUESTION' in parsed_obj and 'ANSWER' in parsed_obj:\n",
    "                        json_objects.append(parsed_obj)\n",
    "                except json.JSONDecodeError:\n",
    "                    pass\n",
    "                start_pos = -1\n",
    "                \n",
    "    return json_objects"
   ]
  },
  {
   "cell_type": "code",
   "execution_count": 9,
   "id": "467d90df",
   "metadata": {},
   "outputs": [],
   "source": [
    "from langchain_core.runnables import RunnableLambda\n",
    "from langchain_openai import ChatOpenAI\n",
    "from dotenv import load_dotenv\n",
    "\n",
    "load_dotenv()\n",
    "\n",
    "parser_runnable = RunnableLambda(custom_json_parser)\n",
    "\n",
    "chain = (\n",
    "    prompt\n",
    "    | ChatOpenAI(\n",
    "        model=\"gpt-4o\",\n",
    "        temperature=0,\n",
    "        streaming=True,\n",
    "        api_key=os.getenv(\"OPENAI_API_KEY\"),\n",
    "    )\n",
    "    | parser_runnable\n",
    ")"
   ]
  },
  {
   "cell_type": "code",
   "execution_count": 10,
   "id": "4054c0bc",
   "metadata": {},
   "outputs": [],
   "source": [
    "selected_elements = Application_Development_and_Delivery_Print_Friendly_elements\n",
    "element_name = \"Application_Development_and_Delivery_Print_Friendly_elements\"\n",
    "\n",
    "qa_pairs = []\n",
    "\n",
    "for element in selected_elements:\n",
    "    try:\n",
    "        result = chain.invoke({\n",
    "            \"context\": element.text,\n",
    "            \"domain\": \"Application Development and Delivery Program and Course Catalogue\",\n",
    "            \"num_questions\": \"20\",\n",
    "            \"program_name\": \"Application Development and Delivery\"\n",
    "        })\n",
    "        if result:\n",
    "            qa_pairs.extend(result)\n",
    "    except Exception:\n",
    "        continue"
   ]
  },
  {
   "cell_type": "code",
   "execution_count": 11,
   "id": "eef076f4",
   "metadata": {},
   "outputs": [
    {
     "name": "stdout",
     "output_type": "stream",
     "text": [
      "QA pairs saved to json1/Application_Development_and_Delivery_Print_Friendly_elements_20250601_191827.jsonl\n"
     ]
    }
   ],
   "source": [
    "import json\n",
    "from datetime import datetime\n",
    "\n",
    "timestamp = datetime.now().strftime(\"%Y%m%d_%H%M%S\")\n",
    "with open(f\"jsonl/{element_name}_{timestamp}.jsonl\", \"w\", encoding=\"utf-8\") as f:\n",
    "    for qa in qa_pairs:\n",
    "        qa_modified = {\n",
    "            \"instruction\": qa[\"QUESTION\"],\n",
    "            \"input\": \"\",\n",
    "            \"output\": qa[\"ANSWER\"],\n",
    "        }\n",
    "        f.write(json.dumps(qa_modified, ensure_ascii=False) + \"\\n\")\n",
    "print(f\"QA pairs saved to json1/{element_name}_{timestamp}.jsonl\")"
   ]
  },
  {
   "cell_type": "code",
   "execution_count": 12,
   "id": "cf9cfaeb",
   "metadata": {},
   "outputs": [],
   "source": [
    "def save_qa_to_json_simple(qa_pairs, filename=None):\n",
    "    \n",
    "    try:\n",
    "        with open(filename, 'w', encoding='utf-8') as f:\n",
    "            json.dump(qa_pairs, f, ensure_ascii=False, indent=2)\n",
    "        \n",
    "        print(f\"Filename: {filename}\")\n",
    "        print(f\"Questions: {len(qa_pairs)}\")\n",
    "        print(f\"Saved\")\n",
    "        return filename\n",
    "\n",
    "    except Exception as e:\n",
    "        print(f\"Error: {e}\")\n",
    "        return None"
   ]
  },
  {
   "cell_type": "code",
   "execution_count": 13,
   "id": "29e012e8",
   "metadata": {},
   "outputs": [
    {
     "name": "stdout",
     "output_type": "stream",
     "text": [
      "Filename: dataset/Application_Development_and_Delivery_Print_Friendly_elements_20250601_191827.json\n",
      "Questions: 280\n",
      "Saved\n",
      "Completed: Application_Development_and_Delivery_Print_Friendly_elements\n"
     ]
    }
   ],
   "source": [
    "saved_file = save_qa_to_json_simple(qa_pairs, f\"dataset/{element_name}_{timestamp}.json\")\n",
    "\n",
    "print(f\"Completed: {element_name}\")"
   ]
  }
 ],
 "metadata": {
  "kernelspec": {
   "display_name": "base",
   "language": "python",
   "name": "python3"
  },
  "language_info": {
   "codemirror_mode": {
    "name": "ipython",
    "version": 3
   },
   "file_extension": ".py",
   "mimetype": "text/x-python",
   "name": "python",
   "nbconvert_exporter": "python",
   "pygments_lexer": "ipython3",
   "version": "3.12.7"
  }
 },
 "nbformat": 4,
 "nbformat_minor": 5
}
